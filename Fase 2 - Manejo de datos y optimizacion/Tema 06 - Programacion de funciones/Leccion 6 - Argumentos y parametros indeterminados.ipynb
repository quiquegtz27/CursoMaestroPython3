{
 "cells": [
  {
   "cell_type": "code",
   "execution_count": 2,
   "metadata": {},
   "outputs": [
    {
     "name": "stdout",
     "output_type": "stream",
     "text": [
      "fola\n",
      "5\n",
      "12.3444\n"
     ]
    }
   ],
   "source": [
    "def indeterminados_posicion(*args): #*args <- parámetro iterable\n",
    "    for arg in args:\n",
    "        print(arg)\n",
    "    \n",
    "indeterminados_posicion(\"fola\",5,12.3444)\n",
    "    "
   ]
  },
  {
   "cell_type": "code",
   "execution_count": 4,
   "metadata": {},
   "outputs": [
    {
     "name": "stdout",
     "output_type": "stream",
     "text": [
      "n   5\n",
      "name   Luis\n",
      "boleta   244454\n"
     ]
    }
   ],
   "source": [
    "def indeterminados_nombre(**kwargs): #**kwargs <- por nombre\n",
    "    for kwarg in kwargs:\n",
    "        print(kwarg, \" \", kwargs[kwarg])\n",
    "indeterminados_nombre(n = 5, name=\"Luis\", boleta = \"244454\")"
   ]
  },
  {
   "cell_type": "code",
   "execution_count": null,
   "metadata": {},
   "outputs": [],
   "source": []
  }
 ],
 "metadata": {
  "kernelspec": {
   "display_name": "Python 3",
   "language": "python",
   "name": "python3"
  },
  "language_info": {
   "codemirror_mode": {
    "name": "ipython",
    "version": 3
   },
   "file_extension": ".py",
   "mimetype": "text/x-python",
   "name": "python",
   "nbconvert_exporter": "python",
   "pygments_lexer": "ipython3",
   "version": "3.8.5"
  }
 },
 "nbformat": 4,
 "nbformat_minor": 1
}
