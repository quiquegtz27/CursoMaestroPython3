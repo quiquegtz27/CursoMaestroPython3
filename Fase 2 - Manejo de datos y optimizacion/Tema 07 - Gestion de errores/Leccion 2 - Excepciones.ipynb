{
 "cells": [
  {
   "cell_type": "code",
   "execution_count": 1,
   "metadata": {},
   "outputs": [
    {
     "name": "stdout",
     "output_type": "stream",
     "text": [
      "Introduce un número: g\n",
      "Ha ocurrido un error, introduce bien el número.\n",
      "Introduce un número: l\n",
      "Ha ocurrido un error, introduce bien el número.\n",
      "Introduce un número: h\n",
      "Ha ocurrido un error, introduce bien el número.\n",
      "Introduce un número: 7\n",
      "7.0/4 = 1.75\n",
      "Todo ha funcionado corrrectamente\n"
     ]
    }
   ],
   "source": [
    "#Manejo de excepciones\n",
    "while(True):\n",
    "    try:\n",
    "        n = float(input(\"Introduce un número: \"))\n",
    "        m = 4\n",
    "        print(\"{}/{} = {}\".format(n,m,n/m))\n",
    "    except:\n",
    "        print(\"Ha ocurrido un error, introduce bien el número.\")\n",
    "    else: #Este else pertenece al except, si no hay una excepción,se ejecuta\n",
    "        print(\"Todo ha funcionado corrrectamente\")\n",
    "        break # IMPORTANTE colocar el break para salir del ciclo\n",
    "    finally: # Se ejecuta siempre\n",
    "        print(\"Esto es una iteración\")\n",
    "        "
   ]
  },
  {
   "cell_type": "code",
   "execution_count": null,
   "metadata": {},
   "outputs": [],
   "source": []
  }
 ],
 "metadata": {
  "kernelspec": {
   "display_name": "Python 3",
   "language": "python",
   "name": "python3"
  },
  "language_info": {
   "codemirror_mode": {
    "name": "ipython",
    "version": 3
   },
   "file_extension": ".py",
   "mimetype": "text/x-python",
   "name": "python",
   "nbconvert_exporter": "python",
   "pygments_lexer": "ipython3",
   "version": "3.8.5"
  }
 },
 "nbformat": 4,
 "nbformat_minor": 1
}
