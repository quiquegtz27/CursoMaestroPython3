{
 "cells": [
  {
   "cell_type": "markdown",
   "metadata": {},
   "source": [
    "# Tema 03: Control de flujo (Enunciados)\n",
    "*Nota: Estos ejercicios son optativos para hacer al final de la unidad y están pensados para apoyar tu aprendizaje*."
   ]
  },
  {
   "cell_type": "markdown",
   "metadata": {},
   "source": [
    "**1) Realiza un programa que lea dos números por teclado y permita elegir entre 3 opciones en un menú:** \n",
    "* Mostrar una suma de los dos números\n",
    "* Mostrar una resta de los dos números (el primero menos el segundo)\n",
    "* Mostrar una multiplicación de los dos números\n",
    "* En caso de no introducir una opción válida, el programa informará de que no es correcta."
   ]
  },
  {
   "cell_type": "code",
   "execution_count": 5,
   "metadata": {},
   "outputs": [
    {
     "name": "stdout",
     "output_type": "stream",
     "text": [
      "Introduce el primer número: 5\n",
      "Introduce el segundo número: 7\n",
      "Elija una opción:\n",
      "1) Sumar\n",
      "2) Restar\n",
      "3) Multiplicar\n",
      "5\n",
      "Opción incorrecta\n"
     ]
    }
   ],
   "source": [
    "# Completa el ejercicio aquí\n",
    "n1 = int(input(\"Introduce el primer número: \"))\n",
    "n2 = int(input(\"Introduce el segundo número: \"))\n",
    "print(\"\"\"Elija una opción:\n",
    "1) Sumar\n",
    "2) Restar\n",
    "3) Multiplicar\"\"\")\n",
    "op = input()\n",
    "if op == '1':\n",
    "    print(\"La suma es: \", n1+n2)\n",
    "elif op =='2':\n",
    "    print(\"La resta es: \", n1-n2)\n",
    "elif op == '3':\n",
    "    print(\"La multiplicación es: \", n1*n2)\n",
    "else:\n",
    "    print(\"Opción incorrecta\")"
   ]
  },
  {
   "cell_type": "markdown",
   "metadata": {},
   "source": [
    "**2) Realiza un programa que lea un número impar por teclado. Si el usuario no introduce un número impar, debe repetise el proceso hasta que lo introduzca correctamente.**"
   ]
  },
  {
   "cell_type": "code",
   "execution_count": 16,
   "metadata": {},
   "outputs": [
    {
     "name": "stdout",
     "output_type": "stream",
     "text": [
      "Introduce un número impar: 4\n",
      "Introduce un número impar: 4\n",
      "Introduce un número impar: 1\n"
     ]
    }
   ],
   "source": [
    "# Completa el ejercicio aquí\n",
    "n = 2\n",
    "while (n%2)==0:\n",
    "    n = int(input(\"Introduce un número impar: \"))\n",
    "\n"
   ]
  },
  {
   "cell_type": "markdown",
   "metadata": {},
   "source": [
    "**3) Realiza un programa que sume todos los números enteros pares desde el 0 hasta el 100:**\n",
    "\n",
    "*Sugerencia: Puedes utilizar la funciones sum() y range() para hacerlo más fácil. El tercer parámetro en la función range(inicio, fin, salto) indica un salto de números, pruébalo.*"
   ]
  },
  {
   "cell_type": "code",
   "execution_count": 19,
   "metadata": {},
   "outputs": [
    {
     "name": "stdout",
     "output_type": "stream",
     "text": [
      "2550\n",
      "2550\n"
     ]
    }
   ],
   "source": [
    "# Completa el ejercicio aquí\n",
    "res = 0\n",
    "for n in range(0,101,2):\n",
    "    res += n\n",
    "print(res)\n",
    "\n",
    "print(sum(range(0,101,2)))"
   ]
  },
  {
   "cell_type": "markdown",
   "metadata": {},
   "source": [
    "**4) Realiza un programa que pida al usuario cuantos números quiere introducir. Luego lee todos los números y realiza una media aritmética:**\n"
   ]
  },
  {
   "cell_type": "code",
   "execution_count": 25,
   "metadata": {},
   "outputs": [
    {
     "name": "stdout",
     "output_type": "stream",
     "text": [
      "Introduce la cantidad de números para la media aritmética: 5\n",
      "Número: 10\n",
      "Número: 90\n",
      "Número: 50\n",
      "Número: 70\n",
      "Número: 60\n",
      "La media es:  56.0\n"
     ]
    }
   ],
   "source": [
    "# Completa el ejercicio aquí\n",
    "suma = 0\n",
    "x = int(input(\"Introduce la cantidad de números para la media aritmética: \"))\n",
    "for i in range(x):\n",
    "    suma += int(input(\"Número: \"))\n",
    "print(\"La media es: \",suma/x)\n",
    "    \n"
   ]
  },
  {
   "cell_type": "markdown",
   "metadata": {},
   "source": [
    "**5) Realiza un programa que pida al usuario un número entero del 0 al 9, y que mientras el número no sea correcto se repita el proceso. Luego debe comprobar si el número se encuentra en la lista de números y notificarlo:**\n",
    "\n",
    "*Consejo: La sintaxis \"valor in lista\" permite comprobar fácilmente si un valor se encuentra en una lista (devuelve True o False)*"
   ]
  },
  {
   "cell_type": "code",
   "execution_count": 30,
   "metadata": {},
   "outputs": [
    {
     "name": "stdout",
     "output_type": "stream",
     "text": [
      "Introduce un número entre el 0 y 9: 8004\n",
      "Introduce un número entre el 0 y 9: 3\n",
      "El número sí se encuentra en la lista\n"
     ]
    }
   ],
   "source": [
    "# Completa el ejercicio aquí\n",
    "numeros = [1, 3, 6, 9]\n",
    "n = 41\n",
    "while n<0 or n>9:\n",
    "    n = int(input(\"Introduce un número entre el 0 y 9: \"))\n",
    "if n in numeros:\n",
    "    print(\"El número sí se encuentra en la lista\")\n",
    "else:\n",
    "    print(\"No está\")"
   ]
  },
  {
   "cell_type": "markdown",
   "metadata": {},
   "source": [
    "**6) Utilizando la función range() y la conversión a listas genera las siguientes listas dinámicamente:**\n",
    "* Todos los números del 0 al 10 [0, 1, 2, ..., 10]\n",
    "* Todos los números del -10 al 0 [-10, -9, -8, ..., 0]\n",
    "* Todos los números pares del 0 al 20 [0, 2, 4, ..., 20]\n",
    "* Todos los números impares entre -20 y 0 [-19, -17, -15, ..., -1]\n",
    "* Todos los números múltiples de 5 del 0 al 50 [0, 5, 10, ..., 50]\n",
    "\n",
    "*Pista: Utiliza el tercer parámetro de la función range(inicio, fin, salto).*"
   ]
  },
  {
   "cell_type": "code",
   "execution_count": 38,
   "metadata": {},
   "outputs": [
    {
     "data": {
      "text/plain": [
       "[0, 2, 4, 6, 8, 10, 12, 14, 16, 18, 20]"
      ]
     },
     "execution_count": 38,
     "metadata": {},
     "output_type": "execute_result"
    }
   ],
   "source": [
    "# Completa el ejercicio\n",
    "list(range(11))\n",
    "list(range(-10,1))\n",
    "list(range(0,21,2))\n",
    "#list(range(-19,1,2))\n",
    "#list(range(0,51,5))"
   ]
  },
  {
   "cell_type": "markdown",
   "metadata": {},
   "source": [
    "**7) Dadas dos listas, debes generar una tercera con todos los elementos que se repitan en ellas, pero no debe repetise ningún elemento en la nueva lista:**"
   ]
  },
  {
   "cell_type": "code",
   "execution_count": 8,
   "metadata": {},
   "outputs": [],
   "source": [
    "# Completa el ejercicio aquí\n"
   ]
  }
 ],
 "metadata": {
  "anaconda-cloud": {},
  "kernelspec": {
   "display_name": "Python 3",
   "language": "python",
   "name": "python3"
  },
  "language_info": {
   "codemirror_mode": {
    "name": "ipython",
    "version": 3
   },
   "file_extension": ".py",
   "mimetype": "text/x-python",
   "name": "python",
   "nbconvert_exporter": "python",
   "pygments_lexer": "ipython3",
   "version": "3.8.5"
  }
 },
 "nbformat": 4,
 "nbformat_minor": 1
}
