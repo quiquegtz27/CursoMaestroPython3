{
 "cells": [
  {
   "cell_type": "code",
   "execution_count": 4,
   "metadata": {},
   "outputs": [
    {
     "name": "stdout",
     "output_type": "stream",
     "text": [
      "Se acaba de crear una galleta.\n",
      "Soy una galleta sin chocolate :(\n",
      "Soy una galleta con chocolate :)\n"
     ]
    }
   ],
   "source": [
    "class Galleta():\n",
    "    chocolate = False\n",
    "    \n",
    "    def __init__(self):\n",
    "        print(\"Se acaba de crear una galleta.\")\n",
    "    \n",
    "    def chocolatear(self):\n",
    "        #IMPORTANTE-> Para acceder a un atributo de la clase en un.. \n",
    "        #método, es importante colocar el prefijo \"self.\"\n",
    "        self.chocolate = True\n",
    "    def tiene_chocolate(self):\n",
    "        if(self.chocolate):\n",
    "            print(\"Soy una galleta con chocolate :)\")\n",
    "        else:\n",
    "            print(\"Soy una galleta sin chocolate :(\")\n",
    "            \n",
    "    \n",
    "\n",
    "g = Galleta()\n",
    "g.tiene_chocolate()\n",
    "g.chocolatear()\n",
    "g.tiene_chocolate()\n"
   ]
  },
  {
   "cell_type": "code",
   "execution_count": 7,
   "metadata": {},
   "outputs": [],
   "source": [
    "class Galleta():\n",
    "    chocolate = False\n",
    "    \n",
    "    def __init__(self, sabor, color):\n",
    "        self.sabor = sabor\n",
    "        self.color = color\n",
    "        print(\"Se acaba de crear una galleta {} y {}\".format(sabor, color))\n",
    "    \n",
    "    def chocolatear(self):\n",
    "        #IMPORTANTE-> Para acceder a un atributo de la clase en un.. \n",
    "        #método, es importante colocar el prefijo \"self.\"\n",
    "        self.chocolate = True\n",
    "    def tiene_chocolate(self):\n",
    "        if(self.chocolate):\n",
    "            print(\"Soy una galleta con chocolate :)\")\n",
    "        else:\n",
    "            print(\"Soy una galleta sin chocolate :(\")"
   ]
  },
  {
   "cell_type": "code",
   "execution_count": 8,
   "metadata": {},
   "outputs": [
    {
     "name": "stdout",
     "output_type": "stream",
     "text": [
      "Se acaba de crear una galleta salada y marrón\n"
     ]
    }
   ],
   "source": [
    "g = Galleta(\"salada\",\"marrón\")"
   ]
  },
  {
   "cell_type": "code",
   "execution_count": 9,
   "metadata": {},
   "outputs": [],
   "source": [
    "class Galleta():\n",
    "    chocolate = False\n",
    "    \n",
    "    def __init__(self, sabor=None, color=None):\n",
    "        self.sabor = sabor\n",
    "        self.color = color\n",
    "        if sabor is not None and color is not None:\n",
    "            print(\"Se acaba de crear una galleta {} y {}\".format(sabor, color))\n",
    "    \n",
    "    def chocolatear(self):\n",
    "        #IMPORTANTE-> Para acceder a un atributo de la clase en un.. \n",
    "        #método, es importante colocar el prefijo \"self.\"\n",
    "        self.chocolate = True\n",
    "    def tiene_chocolate(self):\n",
    "        if(self.chocolate):\n",
    "            print(\"Soy una galleta con chocolate :)\")\n",
    "        else:\n",
    "            print(\"Soy una galleta sin chocolate :(\")"
   ]
  },
  {
   "cell_type": "code",
   "execution_count": 10,
   "metadata": {},
   "outputs": [],
   "source": [
    "g = Galleta()"
   ]
  },
  {
   "cell_type": "code",
   "execution_count": null,
   "metadata": {},
   "outputs": [],
   "source": []
  }
 ],
 "metadata": {
  "kernelspec": {
   "display_name": "Python 3",
   "language": "python",
   "name": "python3"
  },
  "language_info": {
   "codemirror_mode": {
    "name": "ipython",
    "version": 3
   },
   "file_extension": ".py",
   "mimetype": "text/x-python",
   "name": "python",
   "nbconvert_exporter": "python",
   "pygments_lexer": "ipython3",
   "version": "3.8.5"
  }
 },
 "nbformat": 4,
 "nbformat_minor": 1
}
