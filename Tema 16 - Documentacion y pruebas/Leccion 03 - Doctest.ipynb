{
 "cells": [
  {
   "cell_type": "markdown",
   "id": "focal-partition",
   "metadata": {},
   "source": [
    "# Doctest"
   ]
  },
  {
   "cell_type": "code",
   "execution_count": 3,
   "id": "running-welcome",
   "metadata": {},
   "outputs": [],
   "source": [
    "def suma(a, b):\n",
    "        '''La función suma(a, b) recibe dos parámetros a y b\n",
    "        Devuelve la suma de ambos\n",
    "        \n",
    "        >>> suma(5,10)\n",
    "        15\n",
    "        \n",
    "        '''\n",
    "        return a+b\n",
    "    \n",
    "    "
   ]
  },
  {
   "cell_type": "code",
   "execution_count": 4,
   "id": "grave-penguin",
   "metadata": {},
   "outputs": [
    {
     "data": {
      "text/plain": [
       "TestResults(failed=0, attempted=1)"
      ]
     },
     "execution_count": 4,
     "metadata": {},
     "output_type": "execute_result"
    }
   ],
   "source": [
    "import doctest\n",
    "doctest.testmod()"
   ]
  },
  {
   "cell_type": "code",
   "execution_count": null,
   "id": "figured-stock",
   "metadata": {},
   "outputs": [],
   "source": []
  }
 ],
 "metadata": {
  "kernelspec": {
   "display_name": "Python 3",
   "language": "python",
   "name": "python3"
  },
  "language_info": {
   "codemirror_mode": {
    "name": "ipython",
    "version": 3
   },
   "file_extension": ".py",
   "mimetype": "text/x-python",
   "name": "python",
   "nbconvert_exporter": "python",
   "pygments_lexer": "ipython3",
   "version": "3.8.5"
  }
 },
 "nbformat": 4,
 "nbformat_minor": 5
}
